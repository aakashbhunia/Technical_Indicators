{
 "cells": [
  {
   "cell_type": "code",
   "execution_count": null,
   "metadata": {},
   "outputs": [],
   "source": [
    "import yfinance as yf\n",
    "from stocktrends import Renko"
   ]
  },
  {
   "cell_type": "code",
   "execution_count": null,
   "metadata": {},
   "outputs": [],
   "source": [
    "tickers = [\"MSFT\",\"AMZN\",\"GOOG\"]\n",
    "ohlcv_data={}\n",
    "hour_data={}\n",
    "renko_data={}"
   ]
  },
  {
   "cell_type": "code",
   "execution_count": null,
   "metadata": {},
   "outputs": [],
   "source": [
    "for ticker in tickers:\n",
    "    temp = yf.download(ticker,period='1mo',intervals='5m')\n",
    "    temp.dropna(how=\"any\",inplace=True)\n",
    "    ohlcv_data[ticker]=temp\n",
    "    temp = yf.download(ticker,period='1y',intervals='1h')\n",
    "    temp.dropna(how=\"any\",inplace=True)\n",
    "    hour_data[ticker]=temp\n",
    "\n",
    "    def ATR(DF,n=14):\n",
    "            df=DF.copy()\n",
    "            df[\"H-L\"] = df[\"High\"]-df[\"Low\"]\n",
    "            df[\"H-PC\"] = df[\"High\"] - df[\"Adj Close\"].shift(1)\n",
    "            df[\"L-PC\"] = df[\"Low\"] - df[\"Adj Close\"].shift(1)\n",
    "            df[\"TR\"] = df[[\"H-L\",\"H-PC\",\"L-PC\"]].max(axis=1,skipna=False)\n",
    "            df[\"ATR\"]=df[\"TR\"].ewm(com=n,min_periods=n).mean() #com gets you close to yahoo and span gets you close to traderview\n",
    "            return df[\"ATR\"]"
   ]
  },
  {
   "cell_type": "code",
   "execution_count": null,
   "metadata": {},
   "outputs": [],
   "source": [
    "def renko_DF(DF,hourly_df):\n",
    "    df = DF.copy()\n",
    "    df.drop(\"Close\",axis=1,inplace=True)\n",
    "    df.reset_index(inplace=True)\n",
    "    df.columns = [\"date\",\"open\",\"high\",\"low\",\"close\",\"volume\"]\n",
    "    df2 = Renko(df)\n",
    "    df2.brick_size = 3*round(ATR(hourly_df,120).iloc[-1],0)\n",
    "    renko_df=df.get_ohlc_data()\n",
    "    return renko_df"
   ]
  },
  {
   "cell_type": "code",
   "execution_count": null,
   "metadata": {},
   "outputs": [],
   "source": [
    "for ticker in ohlcv_data:\n",
    "    renko_data[ticker] = renko_DF(ohlcv_data[ticker],hour_data[ticker])"
   ]
  },
  {
   "cell_type": "code",
   "execution_count": null,
   "metadata": {},
   "outputs": [],
   "source": []
  }
 ],
 "metadata": {
  "kernelspec": {
   "display_name": "Python 3",
   "language": "python",
   "name": "python3"
  },
  "language_info": {
   "codemirror_mode": {
    "name": "ipython",
    "version": 3
   },
   "file_extension": ".py",
   "mimetype": "text/x-python",
   "name": "python",
   "nbconvert_exporter": "python",
   "pygments_lexer": "ipython3",
   "version": "3.8.8"
  }
 },
 "nbformat": 4,
 "nbformat_minor": 4
}
